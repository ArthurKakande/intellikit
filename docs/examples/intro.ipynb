{
 "cells": [
  {
   "cell_type": "code",
   "execution_count": 1,
   "metadata": {},
   "outputs": [],
   "source": [
    "# To install\n",
    "# !pip install intellikit\n",
    "#To load and use the package\n",
    "import intellikit as ik"
   ]
  },
  {
   "cell_type": "code",
   "execution_count": 2,
   "metadata": {},
   "outputs": [
    {
     "name": "stdout",
     "output_type": "stream",
     "text": [
      "                                            Question  \\\n",
      "0  What are the admission requirements for univer...   \n",
      "1                 How can I apply for a scholarship?   \n",
      "2  What is the curriculum for primary schools in ...   \n",
      "3    Where can I find information about school fees?   \n",
      "4  What are the contact details for the Ministry ...   \n",
      "\n",
      "                                              Answer  \n",
      "0  The admission requirements for universities in...  \n",
      "1  Scholarship applications are usually managed b...  \n",
      "2  The curriculum for primary schools in Uganda i...  \n",
      "3  Information about school fees can be obtained ...  \n",
      "4  You can find the contact details for the Minis...  \n"
     ]
    }
   ],
   "source": [
    "import pandas as pd\n",
    "\n",
    "# Define the questions and answers\n",
    "questions = [\n",
    "    \"What are the admission requirements for universities in Uganda?\",\n",
    "    \"How can I apply for a scholarship?\",\n",
    "    \"What is the curriculum for primary schools in Uganda?\",\n",
    "    \"Where can I find information about school fees?\",\n",
    "    \"What are the contact details for the Ministry of Education?\"\n",
    "]\n",
    "\n",
    "answers = [\n",
    "    \"The admission requirements for universities in Uganda vary depending on the institution. It is recommended to visit the website of the specific university you are interested in for detailed information.\",\n",
    "    \"Scholarship applications are usually managed by different organizations and institutions. You can check the Ministry of Education's website for information on available scholarships and application procedures.\",\n",
    "    \"The curriculum for primary schools in Uganda is designed by the National Curriculum Development Centre (NCDC). You can visit their website for detailed information on the curriculum.\",\n",
    "    \"Information about school fees can be obtained from the respective schools or educational institutions. It is recommended to contact the schools directly for accurate and up-to-date fee information.\",\n",
    "    \"You can find the contact details for the Ministry of Education on their official website. They usually provide phone numbers, email addresses, and physical addresses for different departments and offices.\"\n",
    "]\n",
    "\n",
    "# Create the dataframe\n",
    "df = pd.DataFrame({'Question': questions, 'Answer': answers})\n",
    "\n",
    "# Print the dataframe\n",
    "print(df)\n"
   ]
  },
  {
   "cell_type": "code",
   "execution_count": 3,
   "metadata": {},
   "outputs": [],
   "source": [
    "#Define you similarity calculation methods for your project\n",
    "cosine = ik.sim_sentence_cosine\n",
    "\n",
    "# Assign the similarity calculation function to the feature\n",
    "similarity_functions = {\n",
    "    'Question': cosine\n",
    "}\n",
    "\n",
    "# Weighting out feature. Since this is just one feature the default weight of one should be used. \n",
    "feature_weights = {\n",
    "    'Question': 1\n",
    "}\n",
    "\n",
    "#How many results do we need. Just one is enough since this is a QA system. You could also opt for mulitple results to give users multiple options\n",
    "top_n = 1"
   ]
  },
  {
   "cell_type": "code",
   "execution_count": 7,
   "metadata": {},
   "outputs": [
    {
     "data": {
      "text/plain": [
       "[{'Question': 'How can I apply for a scholarship?',\n",
       "  'Answer': \"Scholarship applications are usually managed by different organizations and institutions. You can check the Ministry of Education's website for information on available scholarships and application procedures.\"}]"
      ]
     },
     "execution_count": 7,
     "metadata": {},
     "output_type": "execute_result"
    }
   ],
   "source": [
    "#Define your query \n",
    "query = pd.DataFrame({\n",
    "    'Question': ['Where can i apply for a scholarship?']\n",
    "\n",
    "})\n",
    "\n",
    "returned_df = ik.linearRetriever(df, query, similarity_functions, feature_weights, top_n)\n",
    "returned_dict = ik.dataframe_to_dict(df=returned_df, orientation=\"records\")\n",
    "returned_dict"
   ]
  },
  {
   "cell_type": "code",
   "execution_count": 8,
   "metadata": {},
   "outputs": [
    {
     "name": "stdout",
     "output_type": "stream",
     "text": [
      "Scholarship applications are usually managed by different organizations and institutions. You can check the Ministry of Education's website for information on available scholarships and application procedures."
     ]
    }
   ],
   "source": [
    "response = returned_dict[0]['Answer']\n",
    "ik.stream_text(response)\n"
   ]
  },
  {
   "cell_type": "code",
   "execution_count": 13,
   "metadata": {},
   "outputs": [
    {
     "name": "stdout",
     "output_type": "stream",
     "text": [
      "You can find the contact details for the Ministry of Education on their official website. They usually provide phone numbers, email addresses, and physical addresses for different departments and offices."
     ]
    }
   ],
   "source": [
    "query = pd.DataFrame({\n",
    "    'Question': ['How do i contact the ministry of education?']\n",
    "\n",
    "})\n",
    "\n",
    "returned_df = ik.linearRetriever(df, query, similarity_functions, feature_weights, top_n)\n",
    "returned_dict = ik.dataframe_to_dict(df=returned_df, orientation=\"records\")\n",
    "response = returned_dict[0]['Answer']\n",
    "ik.stream_text(response) #returns the response in an animated manner like chatgpt"
   ]
  }
 ],
 "metadata": {
  "kernelspec": {
   "display_name": "base",
   "language": "python",
   "name": "python3"
  },
  "language_info": {
   "codemirror_mode": {
    "name": "ipython",
    "version": 3
   },
   "file_extension": ".py",
   "mimetype": "text/x-python",
   "name": "python",
   "nbconvert_exporter": "python",
   "pygments_lexer": "ipython3",
   "version": "3.9.13"
  },
  "orig_nbformat": 4
 },
 "nbformat": 4,
 "nbformat_minor": 2
}
