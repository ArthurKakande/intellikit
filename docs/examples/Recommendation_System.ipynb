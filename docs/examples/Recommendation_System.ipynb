{
  "cells": [
    {
      "cell_type": "code",
      "execution_count": null,
      "metadata": {},
      "outputs": [],
      "source": [
        "#!pip install Levenshtein\n",
        "#!pip install sentence_transformers"
      ]
    },
    {
      "cell_type": "code",
      "execution_count": 1,
      "metadata": {},
      "outputs": [],
      "source": [
        "import intellikit as ik\n",
        "import pandas as pd"
      ]
    },
    {
      "cell_type": "code",
      "execution_count": 2,
      "metadata": {},
      "outputs": [],
      "source": [
        "# Define your DataFrame on which the recommendation system is going to be based\n",
        "df = pd.DataFrame({\n",
        "    'feature1': ['apple', 'orange', 'banana', 'grape'],\n",
        "    'feature2': ['red', 'green', 'blue', 'yellow'],\n",
        "    'feature3': ['small', 'large', 'medium', 'small'],\n",
        "    'feature4': [1, 2, 3, 4],\n",
        "    'feature5': [10, 20, 30, 40]\n",
        "})\n",
        "\n",
        "#Define your query \n",
        "query = pd.DataFrame({\n",
        "    'feature1': ['apple'],\n",
        "    'feature2': ['yellow'],\n",
        "    'feature3': ['small'],\n",
        "    'feature4': [3],\n",
        "    'feature5': [30]\n",
        "\n",
        "})\n",
        "\n",
        "#Define you similarity calculation methods for your project\n",
        "hamming = ik.sim_hamming\n",
        "levenshtein = ik.sim_levenshtein\n",
        "level = ik.sim_level\n",
        "abs_diff = ik.sim_difference\n",
        "\n",
        "# Assign the appro*priate similarity calculation functions to each feature\n",
        "similarity_functions = {\n",
        "    'feature1': hamming,\n",
        "    'feature2': levenshtein,\n",
        "    'feature3': level,\n",
        "    'feature4': abs_diff,\n",
        "    'feature5': abs_diff\n",
        "}"
      ]
    },
    {
      "cell_type": "code",
      "execution_count": 3,
      "metadata": {},
      "outputs": [
        {
          "name": "stdout",
          "output_type": "stream",
          "text": [
            "   feature1  feature2  feature3  feature4  feature5\n",
            "0  1.000000  0.166667       1.0  0.333333  0.333333\n",
            "1  0.166667  0.000000       0.0  0.666667  0.666667\n",
            "2  0.166667  0.166667       0.5  1.000000  1.000000\n",
            "3  0.200000  1.000000       1.0  0.750000  0.750000\n"
          ]
        }
      ],
      "source": [
        "unweighted_results = [similarity_functions[feature](df, query, feature) for feature in df.columns]\n",
        "\n",
        "# Concatenate the resulting DataFrame columns along the rows\n",
        "result = pd.concat(unweighted_results, axis=1)\n",
        "\n",
        "print(result)\n",
        " "
      ]
    },
    {
      "cell_type": "code",
      "execution_count": 4,
      "metadata": {},
      "outputs": [
        {
          "name": "stdout",
          "output_type": "stream",
          "text": [
            "   feature1  feature2  feature3  feature4  feature5  weighted_total\n",
            "0  0.250000      0.05     0.250  0.033333  0.033333        0.616667\n",
            "1  0.041667      0.00     0.000  0.066667  0.066667        0.175000\n",
            "2  0.041667      0.05     0.125  0.100000  0.100000        0.416667\n",
            "3  0.050000      0.30     0.250  0.075000  0.075000        0.750000\n"
          ]
        }
      ],
      "source": [
        "#Applying the methods and weights and retrieving the top results\n",
        "# Define weights for each feature\n",
        "weights = {\n",
        "    'feature1': 0.25,\n",
        "    'feature2': 0.3,\n",
        "    'feature3': 0.25,\n",
        "    'feature4': 0.1,\n",
        "    'feature5': 0.1\n",
        "}\n",
        "\n",
        "# Multiply each column by its corresponding weight\n",
        "weighted_df = result * pd.Series(weights)\n",
        "\n",
        "# Add a new column for the total of the weighted columns\n",
        "weighted_df['weighted_total'] = weighted_df.sum(axis=1)\n",
        "\n",
        "print(weighted_df)"
      ]
    },
    {
      "cell_type": "code",
      "execution_count": 5,
      "metadata": {},
      "outputs": [],
      "source": [
        "#You then go ahead and sort by the weighted total and retrieved the top k ranked cases"
      ]
    }
  ],
  "metadata": {
    "colab": {
      "provenance": []
    },
    "kernelspec": {
      "display_name": "Python 3",
      "name": "python3"
    },
    "language_info": {
      "codemirror_mode": {
        "name": "ipython",
        "version": 3
      },
      "file_extension": ".py",
      "mimetype": "text/x-python",
      "name": "python",
      "nbconvert_exporter": "python",
      "pygments_lexer": "ipython3",
      "version": "3.9.13"
    }
  },
  "nbformat": 4,
  "nbformat_minor": 0
}
