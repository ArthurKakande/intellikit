{
  "cells": [
    {
      "cell_type": "code",
      "execution_count": 1,
      "metadata": {
        "id": "Zy0zVs274tQr"
      },
      "outputs": [],
      "source": [
        "#Loading libraries. Ensure that you already have Levenshtein and sentence_transformers already installed\n",
        "# !pip install Levenshtein\n",
        "# !pip install sentence_transformers\n",
        "import intellikit as ik\n",
        "import pandas as pd\n",
        "import numpy as np\n"
      ]
    },
    {
      "cell_type": "code",
      "execution_count": 2,
      "metadata": {},
      "outputs": [],
      "source": [
        "# Example documents and query\n",
        "documents = [\n",
        "    \"This is an example document about natural language processing.\",\n",
        "    \"Python is a popular programming language for machine learning tasks.\",\n",
        "    \"Machine learning algorithms can be implemented in various programming languages.\",\n",
        "    \"Natural language processing helps computers understand human language.\",\n",
        "    \"Deep learning is a subset of machine learning algorithms.\",\n",
        "]\n",
        "\n",
        "query = \"programming languages for machine learning\"\n",
        "\n"
      ]
    },
    {
      "cell_type": "code",
      "execution_count": 4,
      "metadata": {},
      "outputs": [
        {
          "name": "stdout",
          "output_type": "stream",
          "text": [
            "Top 3 similar documents:\n",
            "Similarity: 0.3770 - Document: Python is a popular programming language for machine learning tasks.\n",
            "Similarity: 0.2767 - Document: Deep learning is a subset of machine learning algorithms.\n",
            "Similarity: 0.2705 - Document: Machine learning algorithms can be implemented in various programming languages.\n"
          ]
        }
      ],
      "source": [
        "#Using the Vector Space Model (TF-IDF)\n",
        "top_similar_docs_vsm = ik.vector_space_model(query, documents, k=3)\n",
        "\n",
        "#To print the retrieved documents\n",
        "print(\"Top 3 similar documents:\")\n",
        "for doc, similarity in top_similar_docs_vsm:\n",
        "    print(f\"Similarity: {similarity:.4f} - Document: {doc}\")"
      ]
    },
    {
      "cell_type": "code",
      "execution_count": 6,
      "metadata": {},
      "outputs": [
        {
          "name": "stdout",
          "output_type": "stream",
          "text": [
            "Top 3 similar documents using BM25:\n",
            "Score: 21.7943 - Document: This is an example document about natural language processing.\n",
            "Score: 20.3793 - Document: Natural language processing helps computers understand human language.\n",
            "Score: 19.3249 - Document: Machine learning algorithms can be implemented in various programming languages.\n"
          ]
        }
      ],
      "source": [
        "# Using the BM25 Model\n",
        "top_similar_docs_bm25 = ik.bm25(query, documents, k=3)\n",
        "\n",
        "#To print the retrieved documents\n",
        "print(\"Top 3 similar documents using BM25:\")\n",
        "for doc, score in top_similar_docs_bm25:\n",
        "    print(f\"Score: {score:.4f} - Document: {doc}\")"
      ]
    },
    {
      "cell_type": "code",
      "execution_count": 7,
      "metadata": {},
      "outputs": [
        {
          "data": {
            "application/vnd.jupyter.widget-view+json": {
              "model_id": "761d7c4150a541028cc8615278f16995",
              "version_major": 2,
              "version_minor": 0
            },
            "text/plain": [
              "modules.json:   0%|          | 0.00/229 [00:00<?, ?B/s]"
            ]
          },
          "metadata": {},
          "output_type": "display_data"
        },
        {
          "name": "stderr",
          "output_type": "stream",
          "text": [
            "c:\\Users\\Probook 450 G7\\anaconda3\\lib\\site-packages\\huggingface_hub\\file_download.py:148: UserWarning: `huggingface_hub` cache-system uses symlinks by default to efficiently store duplicated files but your machine does not support them in C:\\Users\\Probook 450 G7\\.cache\\huggingface\\hub\\models--sentence-transformers--paraphrase-MiniLM-L6-v2. Caching files will still work but in a degraded version that might require more space on your disk. This warning can be disabled by setting the `HF_HUB_DISABLE_SYMLINKS_WARNING` environment variable. For more details, see https://huggingface.co/docs/huggingface_hub/how-to-cache#limitations.\n",
            "To support symlinks on Windows, you either need to activate Developer Mode or to run Python as an administrator. In order to see activate developer mode, see this article: https://docs.microsoft.com/en-us/windows/apps/get-started/enable-your-device-for-development\n",
            "  warnings.warn(message)\n"
          ]
        },
        {
          "data": {
            "application/vnd.jupyter.widget-view+json": {
              "model_id": "6c08426c84384115aa2a0ecf8da2547a",
              "version_major": 2,
              "version_minor": 0
            },
            "text/plain": [
              "config_sentence_transformers.json:   0%|          | 0.00/122 [00:00<?, ?B/s]"
            ]
          },
          "metadata": {},
          "output_type": "display_data"
        },
        {
          "data": {
            "application/vnd.jupyter.widget-view+json": {
              "model_id": "9a654f7eb13a4370896ca18af4aa24cf",
              "version_major": 2,
              "version_minor": 0
            },
            "text/plain": [
              "README.md:   0%|          | 0.00/3.73k [00:00<?, ?B/s]"
            ]
          },
          "metadata": {},
          "output_type": "display_data"
        },
        {
          "data": {
            "application/vnd.jupyter.widget-view+json": {
              "model_id": "9d72cea1f3cb4aa1bf2ab7c3df25695c",
              "version_major": 2,
              "version_minor": 0
            },
            "text/plain": [
              "sentence_bert_config.json:   0%|          | 0.00/53.0 [00:00<?, ?B/s]"
            ]
          },
          "metadata": {},
          "output_type": "display_data"
        },
        {
          "data": {
            "application/vnd.jupyter.widget-view+json": {
              "model_id": "0993f07c6d924309a2478c186982a127",
              "version_major": 2,
              "version_minor": 0
            },
            "text/plain": [
              "config.json:   0%|          | 0.00/629 [00:00<?, ?B/s]"
            ]
          },
          "metadata": {},
          "output_type": "display_data"
        },
        {
          "data": {
            "application/vnd.jupyter.widget-view+json": {
              "model_id": "f08f289917b54bb2927a267a1d53611d",
              "version_major": 2,
              "version_minor": 0
            },
            "text/plain": [
              "model.safetensors:   0%|          | 0.00/90.9M [00:00<?, ?B/s]"
            ]
          },
          "metadata": {},
          "output_type": "display_data"
        },
        {
          "data": {
            "application/vnd.jupyter.widget-view+json": {
              "model_id": "e71b392c3e9a48d9a92447e7593d1a72",
              "version_major": 2,
              "version_minor": 0
            },
            "text/plain": [
              "tokenizer_config.json:   0%|          | 0.00/314 [00:00<?, ?B/s]"
            ]
          },
          "metadata": {},
          "output_type": "display_data"
        },
        {
          "data": {
            "application/vnd.jupyter.widget-view+json": {
              "model_id": "7309fdefee7648e08bcbf76702cfdab3",
              "version_major": 2,
              "version_minor": 0
            },
            "text/plain": [
              "vocab.txt:   0%|          | 0.00/232k [00:00<?, ?B/s]"
            ]
          },
          "metadata": {},
          "output_type": "display_data"
        },
        {
          "data": {
            "application/vnd.jupyter.widget-view+json": {
              "model_id": "391fa81e239f4b73b22ac1239e7f16ba",
              "version_major": 2,
              "version_minor": 0
            },
            "text/plain": [
              "tokenizer.json:   0%|          | 0.00/466k [00:00<?, ?B/s]"
            ]
          },
          "metadata": {},
          "output_type": "display_data"
        },
        {
          "data": {
            "application/vnd.jupyter.widget-view+json": {
              "model_id": "4b2f53207e5145ddb415cbb84691d735",
              "version_major": 2,
              "version_minor": 0
            },
            "text/plain": [
              "special_tokens_map.json:   0%|          | 0.00/112 [00:00<?, ?B/s]"
            ]
          },
          "metadata": {},
          "output_type": "display_data"
        },
        {
          "data": {
            "application/vnd.jupyter.widget-view+json": {
              "model_id": "849da6aec05c4b4ea88391eedd793472",
              "version_major": 2,
              "version_minor": 0
            },
            "text/plain": [
              "1_Pooling/config.json:   0%|          | 0.00/190 [00:00<?, ?B/s]"
            ]
          },
          "metadata": {},
          "output_type": "display_data"
        },
        {
          "name": "stdout",
          "output_type": "stream",
          "text": [
            "Top 3 similar documents using Sentence Transformers:\n",
            "Similarity: 0.7972 - Document: Machine learning algorithms can be implemented in various programming languages.\n",
            "Similarity: 0.6459 - Document: Python is a popular programming language for machine learning tasks.\n",
            "Similarity: 0.5925 - Document: Deep learning is a subset of machine learning algorithms.\n"
          ]
        }
      ],
      "source": [
        "# Using Sentence Transformers\n",
        "# The default model used here is the pre-trained \"paraphrase-MiniLM-L6-v2\" from huggingface hb. Other pre-trained models can be applied.\n",
        "top_similar_docs_st = ik.sentence_transformers_retrieval(query, documents, k=3)\n",
        "\n",
        "# To print the retrieved documents\n",
        "print(\"Top 3 similar documents using Sentence Transformers:\")\n",
        "for doc, similarity in top_similar_docs_st:\n",
        "    print(f\"Similarity: {similarity:.4f} - Document: {doc}\")"
      ]
    },
    {
      "cell_type": "code",
      "execution_count": 10,
      "metadata": {},
      "outputs": [
        {
          "name": "stdout",
          "output_type": "stream",
          "text": [
            "Top 3 similar documents using BM25:\n",
            "Score: 17.9712 - Document Title: Document 3\n",
            "Score: 16.8036 - Document Title: Document 5\n",
            "Score: 15.4860 - Document Title: Document 1\n",
            "\n",
            "Top 3 similar documents using the Vector Space Model:\n",
            "Similarity: 0.1745 - Document Title: Document 2\n",
            "Similarity: 0.1601 - Document Title: Document 1\n",
            "Similarity: 0.1488 - Document Title: Document 5\n"
          ]
        }
      ],
      "source": [
        "# An example of preparing a dataframme for this task\n",
        "data = {\n",
        "    'document_id': [1, 2, 3, 4, 5],\n",
        "    'document_title': [\"Document 1\", \"Document 2\", \"Document 3\", \"Document 4\", \"Document 5\"],\n",
        "    'document_text': [\n",
        "        \"This is the text of Document 1.\",\n",
        "        \"Document 2 contains some example text.\",\n",
        "        \"The text in Document 3 is different from others.\",\n",
        "        \"Document 4 has unique content.\",\n",
        "        \"This is a sample text for Document 5.\"\n",
        "    ]\n",
        "}\n",
        "\n",
        "df = pd.DataFrame(data)\n",
        "\n",
        "# Function to prepare data for retrieval models\n",
        "def prepare_data(df):\n",
        "    documents = df['document_text'].tolist()\n",
        "    titles = df['document_title'].tolist()\n",
        "    return documents, titles\n",
        "\n",
        "# Example usage\n",
        "documents, titles = prepare_data(df)\n",
        "\n",
        "# Test the BM25 function\n",
        "query = \"example text\"\n",
        "top_similar_docs_bm25 = ik.bm25(query, documents, k=3)\n",
        "print(\"Top 3 similar documents using BM25:\")\n",
        "for doc, score in top_similar_docs_bm25:\n",
        "    doc_title = titles[documents.index(doc)]\n",
        "    print(f\"Score: {score:.4f} - Document Title: {doc_title}\")\n",
        "\n",
        "# Test the Vector Space Model function\n",
        "top_similar_docs_vsm = ik.vector_space_model(query, documents, k=3)\n",
        "print(\"\\nTop 3 similar documents using the Vector Space Model:\")\n",
        "for doc, similarity in top_similar_docs_vsm:\n",
        "    doc_title = titles[documents.index(doc)]\n",
        "    print(f\"Similarity: {similarity:.4f} - Document Title: {doc_title}\")"
      ]
    }
  ],
  "metadata": {
    "colab": {
      "provenance": []
    },
    "kernelspec": {
      "display_name": "Python 3",
      "name": "python3"
    },
    "language_info": {
      "codemirror_mode": {
        "name": "ipython",
        "version": 3
      },
      "file_extension": ".py",
      "mimetype": "text/x-python",
      "name": "python",
      "nbconvert_exporter": "python",
      "pygments_lexer": "ipython3",
      "version": "3.9.13"
    }
  },
  "nbformat": 4,
  "nbformat_minor": 0
}
