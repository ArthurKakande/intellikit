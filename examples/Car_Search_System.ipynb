{
  "cells": [
    {
      "cell_type": "code",
      "execution_count": 1,
      "metadata": {
        "id": "E_hH-wo3vdkC"
      },
      "outputs": [],
      "source": [
        "#loading libraries \n",
        "# Remember to install using !pip install intellikit \n",
        "import intellikit #importing the installled intellikit library to load the functions\n",
        "import pandas as pd #importing pandas for loading and preparing the dataset"
      ]
    },
    {
      "cell_type": "code",
      "execution_count": 3,
      "metadata": {
        "id": "STPd1jmS6OAe"
      },
      "outputs": [],
      "source": [
        "#We now create a new version of the dataset that we can transform into a similarity dataset. this way we can retain the original columns as the casebase file\n",
        "df = pd.read_csv('datasets/cars-1k.csv')\n",
        "\n",
        "#Select your respective columns to ensure that the similarities match based on the data type of the column\n",
        "numerical_columns = ['price', 'year', 'miles']\n",
        "text_columns = ['manufacturer', 'make', 'fuel', 'title_status', 'transmission', 'drive', 'type', 'paint_color']\n",
        "\n",
        "query = pd.DataFrame({\n",
        "    'price': [10000],\n",
        "    'year': [2004],\n",
        "    'manufacturer': ['ford'],\n",
        "    'make': ['combo'],\n",
        "    'fuel': ['gas'],\n",
        "    'miles': [150000],\n",
        "    'title_status': ['clean'],\n",
        "    'transmission': ['manual'],\n",
        "    'drive': ['4wd'],\n",
        "    'type': ['van'],\n",
        "    'paint_color': ['black']\n",
        "    })\n",
        "\n",
        "\n",
        "df = intellikit.preprocess_data(df)\n",
        "query = intellikit.preprocess_data(query)\n",
        "\n",
        "df = intellikit.calculate_similarity(df, query, numerical_columns, text_columns)\n",
        "df.to_csv('similarity_output.csv', index=False) #A new csv file is created in the directory"
      ]
    },
    {
      "cell_type": "code",
      "execution_count": 4,
      "metadata": {
        "colab": {
          "base_uri": "https://localhost:8080/"
        },
        "id": "HBxcrk7Q6rs1",
        "outputId": "f6c5d1f3-3a9d-48d6-e76f-db663086c7b7"
      },
      "outputs": [
        {
          "name": "stdout",
          "output_type": "stream",
          "text": [
            "        price      year  manufacturer  make  fuel     miles  title_status  \\\n",
            "426  0.000171  0.333333             1     0     1  0.000028             1   \n",
            "983  0.000158  0.333333             1     0     1  0.000019             1   \n",
            "725  0.000459  0.250000             1     0     1  0.000006             1   \n",
            "104  0.000938  0.200000             1     0     1  0.000008             1   \n",
            "436  0.000110  0.200000             1     0     1  0.000006             1   \n",
            "526  0.001437  0.142857             1     0     1  0.000024             1   \n",
            "484  0.000122  1.000000             0     0     1  0.000250             1   \n",
            "\n",
            "     transmission  drive  type  paint_color  similarity  \n",
            "426             1      1     1            1    0.666685  \n",
            "983             1      1     1            1    0.666683  \n",
            "725             1      1     1            1    0.659133  \n",
            "104             1      1     1            1    0.654631  \n",
            "436             1      1     1            1    0.654556  \n",
            "526             1      1     1            1    0.649483  \n",
            "484             1      1     1            1    0.636397  \n"
          ]
        }
      ],
      "source": [
        "#You can now retrieve the newly generated dataset of similarities which has been added as a csv file in your directory\n",
        "similarity_file_path = 'similarity_output.csv'\n",
        "df_similarity = pd.read_csv(similarity_file_path)\n",
        "\n",
        "similarity_column = 'similarity'\n",
        "top_k = 7 #you can edit the number of top results to show by changing here\n",
        "\n",
        "top_similar_found = intellikit.retrieve_top_similar_results(df_similarity, similarity_column, top_k)\n",
        "print(top_similar_found)"
      ]
    },
    {
      "cell_type": "code",
      "execution_count": 5,
      "metadata": {
        "id": "w1_aT_8f6ttq"
      },
      "outputs": [],
      "source": [
        "#let's re-add our original dataset that we are using as the casebase\n",
        "casebase = pd.read_csv('datasets/cars-1k.csv')"
      ]
    },
    {
      "cell_type": "code",
      "execution_count": 6,
      "metadata": {
        "colab": {
          "base_uri": "https://localhost:8080/"
        },
        "id": "aQa9_g3_60dy",
        "outputId": "cae721a6-b0c1-4c2f-e886-2acbf2cbc85a"
      },
      "outputs": [
        {
          "name": "stdout",
          "output_type": "stream",
          "text": [
            "   price  year manufacturer        make    fuel   miles title_status  \\\n",
            "1   4145  2002         audi          a4  diesel  186215        clean   \n",
            "4   3663  2002         audi          a3  diesel  202000        clean   \n",
            "3  12176  2007         audi          q7  diesel  311479        clean   \n",
            "0  11065  2008         audi  a6-allroad  diesel  282000        clean   \n",
            "2    921  2008         audi          a4  diesel  319002        clean   \n",
            "\n",
            "  transmission drive     type  ... simmake  simfuel  simmiles  \\\n",
            "1       manual   4wd  compact  ...       0        1  0.000028   \n",
            "4       manual   4wd  compact  ...       0        1  0.000019   \n",
            "3       manual   4wd  compact  ...       0        1  0.000006   \n",
            "0       manual   4wd  compact  ...       0        1  0.000008   \n",
            "2       manual   4wd  compact  ...       0        1  0.000006   \n",
            "\n",
            "   simtitle_status  simtransmission  simdrive  simtype  simpaint_color  \\\n",
            "1                1                1         1        1               1   \n",
            "4                1                1         1        1               1   \n",
            "3                1                1         1        1               1   \n",
            "0                1                1         1        1               1   \n",
            "2                1                1         1        1               1   \n",
            "\n",
            "   simsimilarity  simUniqueID  \n",
            "1       0.666685          426  \n",
            "4       0.666683          983  \n",
            "3       0.659133          725  \n",
            "0       0.654631          104  \n",
            "2       0.654556          436  \n",
            "\n",
            "[5 rows x 25 columns]\n"
          ]
        }
      ],
      "source": [
        "#Or you retrieve the final ordered list of the results combined with the original casebase using this below. the df in this case is the adjusted case base while the casebase is the original casebase\n",
        "result = intellikit.retrieve_final_results(df, casebase, similarity_column, top_k=5, order=False)\n",
        "print(result)"
      ]
    }
  ],
  "metadata": {
    "colab": {
      "provenance": []
    },
    "kernelspec": {
      "display_name": "Python 3",
      "name": "python3"
    },
    "language_info": {
      "codemirror_mode": {
        "name": "ipython",
        "version": 3
      },
      "file_extension": ".py",
      "mimetype": "text/x-python",
      "name": "python",
      "nbconvert_exporter": "python",
      "pygments_lexer": "ipython3",
      "version": "3.9.13"
    }
  },
  "nbformat": 4,
  "nbformat_minor": 0
}
