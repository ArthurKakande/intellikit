{
  "nbformat": 4,
  "nbformat_minor": 0,
  "metadata": {
    "colab": {
      "provenance": []
    },
    "kernelspec": {
      "name": "python3",
      "display_name": "Python 3"
    },
    "language_info": {
      "name": "python"
    }
  },
  "cells": [
    {
      "cell_type": "code",
      "source": [
        "!pip install intellikit"
      ],
      "metadata": {
        "colab": {
          "base_uri": "https://localhost:8080/"
        },
        "id": "MGPR_5na6BtU",
        "outputId": "5941233c-fc2a-4492-e575-a5298dec0f85"
      },
      "execution_count": 2,
      "outputs": [
        {
          "output_type": "stream",
          "name": "stdout",
          "text": [
            "Collecting intellikit\n",
            "  Downloading intellikit-0.0.3-py2.py3-none-any.whl (4.0 kB)\n",
            "Requirement already satisfied: numpy in /usr/local/lib/python3.10/dist-packages (from intellikit) (1.25.2)\n",
            "Requirement already satisfied: pandas in /usr/local/lib/python3.10/dist-packages (from intellikit) (1.5.3)\n",
            "Requirement already satisfied: scikit-learn in /usr/local/lib/python3.10/dist-packages (from intellikit) (1.2.2)\n",
            "Requirement already satisfied: python-dateutil>=2.8.1 in /usr/local/lib/python3.10/dist-packages (from pandas->intellikit) (2.8.2)\n",
            "Requirement already satisfied: pytz>=2020.1 in /usr/local/lib/python3.10/dist-packages (from pandas->intellikit) (2023.4)\n",
            "Requirement already satisfied: scipy>=1.3.2 in /usr/local/lib/python3.10/dist-packages (from scikit-learn->intellikit) (1.11.4)\n",
            "Requirement already satisfied: joblib>=1.1.1 in /usr/local/lib/python3.10/dist-packages (from scikit-learn->intellikit) (1.3.2)\n",
            "Requirement already satisfied: threadpoolctl>=2.0.0 in /usr/local/lib/python3.10/dist-packages (from scikit-learn->intellikit) (3.3.0)\n",
            "Requirement already satisfied: six>=1.5 in /usr/local/lib/python3.10/dist-packages (from python-dateutil>=2.8.1->pandas->intellikit) (1.16.0)\n",
            "Installing collected packages: intellikit\n",
            "Successfully installed intellikit-0.0.3\n"
          ]
        }
      ]
    },
    {
      "cell_type": "code",
      "execution_count": 3,
      "metadata": {
        "id": "E_hH-wo3vdkC"
      },
      "outputs": [],
      "source": [
        "#loading libraries\n",
        "import intellikit #importing the installled intellikit library to load the functions\n",
        "import pandas as pd #importing pandas for loading and preparing the dataset"
      ]
    },
    {
      "cell_type": "code",
      "source": [
        "#We now create a new version of the dataset that we can transform into a similarity dataset. this way we can retain the original columns as the casebase file\n",
        "df = pd.read_csv('cars-1k.csv')\n",
        "\n",
        "#Select your respective columns to ensure that the similarities match based on the data type of the column\n",
        "numerical_columns = ['price', 'year', 'miles']\n",
        "text_columns = ['manufacturer', 'make', 'fuel', 'title_status', 'transmission', 'drive', 'type', 'paint_color']\n",
        "\n",
        "query = pd.DataFrame({\n",
        "    'price': [10000],\n",
        "    'year': [2004],\n",
        "    'manufacturer': ['ford'],\n",
        "    'make': ['combo'],\n",
        "    'fuel': ['gas'],\n",
        "    'miles': [150000],\n",
        "    'title_status': ['clean'],\n",
        "    'transmission': ['manual'],\n",
        "    'drive': ['4wd'],\n",
        "    'type': ['van'],\n",
        "    'paint_color': ['black']\n",
        "    })\n",
        "\n",
        "\n",
        "df = intellikit.preprocess_data(df)\n",
        "query = intellikit.preprocess_data(query)\n",
        "\n",
        "df = intellikit.calculate_similarity(df, query, numerical_columns, text_columns)\n",
        "df.to_csv('similarity_output.csv', index=False) #A new csv file is created in the directory"
      ],
      "metadata": {
        "id": "STPd1jmS6OAe"
      },
      "execution_count": 10,
      "outputs": []
    },
    {
      "cell_type": "code",
      "source": [
        "#You can now retrieve the newly generated dataset of similarities which has been added as a csv file in your directory\n",
        "similarity_file_path = 'similarity_output.csv'\n",
        "df_similarity = pd.read_csv(similarity_file_path)\n",
        "\n",
        "similarity_column = 'similarity'\n",
        "top_k = 7 #you can edit the number of top results to show by changing here\n",
        "\n",
        "top_similar_found = intellikit.retrieve_top_similar_results(df_similarity, similarity_column, top_k)\n",
        "print(top_similar_found)"
      ],
      "metadata": {
        "colab": {
          "base_uri": "https://localhost:8080/"
        },
        "id": "HBxcrk7Q6rs1",
        "outputId": "f6c5d1f3-3a9d-48d6-e76f-db663086c7b7"
      },
      "execution_count": 11,
      "outputs": [
        {
          "output_type": "stream",
          "name": "stdout",
          "text": [
            "        price      year  manufacturer  make  fuel     miles  title_status  \\\n",
            "426  0.000171  0.333333             1     0     1  0.000028             1   \n",
            "983  0.000158  0.333333             1     0     1  0.000019             1   \n",
            "725  0.000459  0.250000             1     0     1  0.000006             1   \n",
            "104  0.000938  0.200000             1     0     1  0.000008             1   \n",
            "436  0.000110  0.200000             1     0     1  0.000006             1   \n",
            "526  0.001437  0.142857             1     0     1  0.000024             1   \n",
            "484  0.000122  1.000000             0     0     1  0.000250             1   \n",
            "\n",
            "     transmission  drive  type  paint_color  similarity  \n",
            "426             1      1     1            1    0.666685  \n",
            "983             1      1     1            1    0.666683  \n",
            "725             1      1     1            1    0.659133  \n",
            "104             1      1     1            1    0.654631  \n",
            "436             1      1     1            1    0.654556  \n",
            "526             1      1     1            1    0.649483  \n",
            "484             1      1     1            1    0.636397  \n"
          ]
        }
      ]
    },
    {
      "cell_type": "code",
      "source": [
        "#let's re-add our original dataset that we are using as the casebase\n",
        "casebase = pd.read_csv('cars-1k.csv')"
      ],
      "metadata": {
        "id": "w1_aT_8f6ttq"
      },
      "execution_count": 8,
      "outputs": []
    },
    {
      "cell_type": "code",
      "source": [
        "#Or you retrieve the final ordered list of the results combined with the original casebase using this below. the df in this case is the adjusted case base while the casebase is the original casebase\n",
        "result = intellikit.retrieve_final_results(df, casebase, similarity_column, top_k=5, order=False)\n",
        "print(result)"
      ],
      "metadata": {
        "colab": {
          "base_uri": "https://localhost:8080/"
        },
        "id": "aQa9_g3_60dy",
        "outputId": "cae721a6-b0c1-4c2f-e886-2acbf2cbc85a"
      },
      "execution_count": 12,
      "outputs": [
        {
          "output_type": "stream",
          "name": "stdout",
          "text": [
            "   price  year manufacturer        make    fuel   miles title_status  \\\n",
            "1   4145  2002         audi          a4  diesel  186215        clean   \n",
            "4   3663  2002         audi          a3  diesel  202000        clean   \n",
            "3  12176  2007         audi          q7  diesel  311479        clean   \n",
            "0  11065  2008         audi  a6-allroad  diesel  282000        clean   \n",
            "2    921  2008         audi          a4  diesel  319002        clean   \n",
            "\n",
            "  transmission drive     type  ... simmake  simfuel  simmiles  \\\n",
            "1       manual   4wd  compact  ...       0        1  0.000028   \n",
            "4       manual   4wd  compact  ...       0        1  0.000019   \n",
            "3       manual   4wd  compact  ...       0        1  0.000006   \n",
            "0       manual   4wd  compact  ...       0        1  0.000008   \n",
            "2       manual   4wd  compact  ...       0        1  0.000006   \n",
            "\n",
            "   simtitle_status  simtransmission  simdrive  simtype  simpaint_color  \\\n",
            "1                1                1         1        1               1   \n",
            "4                1                1         1        1               1   \n",
            "3                1                1         1        1               1   \n",
            "0                1                1         1        1               1   \n",
            "2                1                1         1        1               1   \n",
            "\n",
            "   simsimilarity  simUniqueID  \n",
            "1       0.666685          426  \n",
            "4       0.666683          983  \n",
            "3       0.659133          725  \n",
            "0       0.654631          104  \n",
            "2       0.654556          436  \n",
            "\n",
            "[5 rows x 25 columns]\n"
          ]
        }
      ]
    }
  ]
}