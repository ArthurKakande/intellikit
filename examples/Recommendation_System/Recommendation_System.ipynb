{
  "cells": [
    {
      "cell_type": "code",
      "execution_count": null,
      "metadata": {},
      "outputs": [],
      "source": [
        "#!pip install Levenshtein\n",
        "#!pip install sentence_transformers"
      ]
    },
    {
      "cell_type": "code",
      "execution_count": 1,
      "metadata": {},
      "outputs": [],
      "source": [
        "import intellikit as ik\n",
        "import pandas as pd"
      ]
    },
    {
      "cell_type": "code",
      "execution_count": 2,
      "metadata": {},
      "outputs": [],
      "source": [
        "# Define your DataFrame on which the recommendation system is going to be based\n",
        "df = pd.DataFrame({\n",
        "    'feature1': ['apple', 'orange', 'banana', 'grape'],\n",
        "    'feature2': ['red', 'green', 'blue', 'yellow'],\n",
        "    'feature3': ['small', 'large', 'medium', 'small'],\n",
        "    'feature4': [1, 2, 3, 4],\n",
        "    'feature5': [10, 20, 30, 40]\n",
        "})\n",
        "\n",
        "#Define your query \n",
        "query = pd.DataFrame({\n",
        "    'feature1': ['apple'],\n",
        "    'feature2': ['yellow'],\n",
        "    'feature3': ['small'],\n",
        "    'feature4': [3],\n",
        "    'feature5': [30]\n",
        "\n",
        "})\n",
        "\n",
        "#Define you similarity calculation methods for your project\n",
        "hamming = ik.sim_hamming\n",
        "levenshtein = ik.sim_levenshtein\n",
        "level = ik.sim_level\n",
        "abs_diff = ik.sim_difference\n",
        "\n",
        "# Assign the appro*priate similarity calculation functions to each feature\n",
        "similarity_functions = {\n",
        "    'feature1': hamming,\n",
        "    'feature2': levenshtein,\n",
        "    'feature3': level,\n",
        "    'feature4': abs_diff,\n",
        "    'feature5': abs_diff\n",
        "}"
      ]
    },
    {
      "cell_type": "code",
      "execution_count": 4,
      "metadata": {},
      "outputs": [
        {
          "name": "stdout",
          "output_type": "stream",
          "text": [
            "Top similar cases (Linear):\n",
            "  feature1 feature2 feature3  feature4  feature5\n",
            "0    apple      red    small         1        10\n",
            "3    grape   yellow    small         4        40\n"
          ]
        }
      ],
      "source": [
        "# Applying the methods and weights and retrieving the top results using the linear retriever\n",
        "feature_weights = {\n",
        "    'feature1': 0.4,\n",
        "    'feature2': 0.2,\n",
        "    'feature3': 0.1,\n",
        "    'feature4': 0.1,\n",
        "    'feature5': 0.2\n",
        "}\n",
        "\n",
        "top_n = 2  # Number of top similar results to return\n",
        "top_similar_cases_linear = ik.linearRetriever(df, query, similarity_functions, feature_weights, top_n)\n",
        "print(\"Top similar cases (Linear):\")\n",
        "print(top_similar_cases_linear)\n"
      ]
    }
  ],
  "metadata": {
    "colab": {
      "provenance": []
    },
    "kernelspec": {
      "display_name": "Python 3",
      "name": "python3"
    },
    "language_info": {
      "codemirror_mode": {
        "name": "ipython",
        "version": 3
      },
      "file_extension": ".py",
      "mimetype": "text/x-python",
      "name": "python",
      "nbconvert_exporter": "python",
      "pygments_lexer": "ipython3",
      "version": "3.9.13"
    }
  },
  "nbformat": 4,
  "nbformat_minor": 0
}
