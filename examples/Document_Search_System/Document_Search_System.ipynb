{
  "cells": [
    {
      "cell_type": "code",
      "execution_count": 1,
      "metadata": {
        "id": "Zy0zVs274tQr"
      },
      "outputs": [],
      "source": [
        "#Loading libraries. Ensure that you already have Levenshtein and sentence_transformers already installed\n",
        "# !pip install Levenshtein\n",
        "# !pip install sentence_transformers\n",
        "import intellikit as ik\n",
        "import pandas as pd\n",
        "import numpy as np\n"
      ]
    },
    {
      "cell_type": "code",
      "execution_count": 2,
      "metadata": {},
      "outputs": [],
      "source": [
        "# Example documents and query\n",
        "documents = [\n",
        "    \"This is an example document about natural language processing.\",\n",
        "    \"Python is a popular programming language for machine learning tasks.\",\n",
        "    \"Machine learning algorithms can be implemented in various programming languages.\",\n",
        "    \"Natural language processing helps computers understand human language.\",\n",
        "    \"Deep learning is a subset of machine learning algorithms.\",\n",
        "]\n",
        "\n",
        "query = \"programming languages for machine learning\"\n",
        "\n"
      ]
    },
    {
      "cell_type": "code",
      "execution_count": 4,
      "metadata": {},
      "outputs": [
        {
          "name": "stdout",
          "output_type": "stream",
          "text": [
            "Top 3 similar documents:\n",
            "Similarity: 0.3770 - Document: Python is a popular programming language for machine learning tasks.\n",
            "Similarity: 0.2767 - Document: Deep learning is a subset of machine learning algorithms.\n",
            "Similarity: 0.2705 - Document: Machine learning algorithms can be implemented in various programming languages.\n"
          ]
        }
      ],
      "source": [
        "#Using the Vector Space Model (TF-IDF)\n",
        "top_similar_docs_vsm = ik.vector_space_model(query, documents, k=3)\n",
        "\n",
        "#To print the retrieved documents\n",
        "print(\"Top 3 similar documents:\")\n",
        "for doc, similarity in top_similar_docs_vsm:\n",
        "    print(f\"Similarity: {similarity:.4f} - Document: {doc}\")"
      ]
    },
    {
      "cell_type": "code",
      "execution_count": 6,
      "metadata": {},
      "outputs": [
        {
          "name": "stdout",
          "output_type": "stream",
          "text": [
            "Top 3 similar documents using BM25:\n",
            "Score: 21.7943 - Document: This is an example document about natural language processing.\n",
            "Score: 20.3793 - Document: Natural language processing helps computers understand human language.\n",
            "Score: 19.3249 - Document: Machine learning algorithms can be implemented in various programming languages.\n"
          ]
        }
      ],
      "source": [
        "# Using the BM25 Model\n",
        "top_similar_docs_bm25 = ik.bm25(query, documents, k=3)\n",
        "\n",
        "#To print the retrieved documents\n",
        "print(\"Top 3 similar documents using BM25:\")\n",
        "for doc, score in top_similar_docs_bm25:\n",
        "    print(f\"Score: {score:.4f} - Document: {doc}\")"
      ]
    },
    {
      "cell_type": "code",
      "execution_count": 3,
      "metadata": {},
      "outputs": [
        {
          "name": "stdout",
          "output_type": "stream",
          "text": [
            "Top 3 similar documents using Sentence Transformers:\n",
            "Similarity: 0.7972 - Document: Machine learning algorithms can be implemented in various programming languages.\n",
            "Similarity: 0.6459 - Document: Python is a popular programming language for machine learning tasks.\n",
            "Similarity: 0.5925 - Document: Deep learning is a subset of machine learning algorithms.\n"
          ]
        }
      ],
      "source": [
        "# Using Sentence Transformers\n",
        "# The default model used here is the pre-trained \"paraphrase-MiniLM-L6-v2\" from huggingface hb. Other pre-trained models can be applied.\n",
        "top_similar_docs_st = ik.sentence_transformers_retrieval(query, documents, k=3, model_name='paraphrase-MiniLM-L6-v2')\n",
        "\n",
        "# To print the retrieved documents\n",
        "print(\"Top 3 similar documents using Sentence Transformers:\")\n",
        "for doc, similarity in top_similar_docs_st:\n",
        "    print(f\"Similarity: {similarity:.4f} - Document: {doc}\")"
      ]
    },
    {
      "cell_type": "code",
      "execution_count": 10,
      "metadata": {},
      "outputs": [
        {
          "name": "stdout",
          "output_type": "stream",
          "text": [
            "Top 3 similar documents using BM25:\n",
            "Score: 17.9712 - Document Title: Document 3\n",
            "Score: 16.8036 - Document Title: Document 5\n",
            "Score: 15.4860 - Document Title: Document 1\n",
            "\n",
            "Top 3 similar documents using the Vector Space Model:\n",
            "Similarity: 0.1745 - Document Title: Document 2\n",
            "Similarity: 0.1601 - Document Title: Document 1\n",
            "Similarity: 0.1488 - Document Title: Document 5\n"
          ]
        }
      ],
      "source": [
        "# An example of preparing a dataframme for this task\n",
        "data = {\n",
        "    'document_id': [1, 2, 3, 4, 5],\n",
        "    'document_title': [\"Document 1\", \"Document 2\", \"Document 3\", \"Document 4\", \"Document 5\"],\n",
        "    'document_text': [\n",
        "        \"This is the text of Document 1.\",\n",
        "        \"Document 2 contains some example text.\",\n",
        "        \"The text in Document 3 is different from others.\",\n",
        "        \"Document 4 has unique content.\",\n",
        "        \"This is a sample text for Document 5.\"\n",
        "    ]\n",
        "}\n",
        "\n",
        "df = pd.DataFrame(data)\n",
        "\n",
        "# Function to prepare data for retrieval models\n",
        "def prepare_data(df):\n",
        "    documents = df['document_text'].tolist()\n",
        "    titles = df['document_title'].tolist()\n",
        "    return documents, titles\n",
        "\n",
        "# Example usage\n",
        "documents, titles = prepare_data(df)\n",
        "\n",
        "# Test the BM25 function\n",
        "query = \"example text\"\n",
        "top_similar_docs_bm25 = ik.bm25(query, documents, k=3)\n",
        "print(\"Top 3 similar documents using BM25:\")\n",
        "for doc, score in top_similar_docs_bm25:\n",
        "    doc_title = titles[documents.index(doc)]\n",
        "    print(f\"Score: {score:.4f} - Document Title: {doc_title}\")\n",
        "\n",
        "# Test the Vector Space Model function\n",
        "top_similar_docs_vsm = ik.vector_space_model(query, documents, k=3)\n",
        "print(\"\\nTop 3 similar documents using the Vector Space Model:\")\n",
        "for doc, similarity in top_similar_docs_vsm:\n",
        "    doc_title = titles[documents.index(doc)]\n",
        "    print(f\"Similarity: {similarity:.4f} - Document Title: {doc_title}\")"
      ]
    }
  ],
  "metadata": {
    "colab": {
      "provenance": []
    },
    "kernelspec": {
      "display_name": "Python 3",
      "name": "python3"
    },
    "language_info": {
      "codemirror_mode": {
        "name": "ipython",
        "version": 3
      },
      "file_extension": ".py",
      "mimetype": "text/x-python",
      "name": "python",
      "nbconvert_exporter": "python",
      "pygments_lexer": "ipython3",
      "version": "3.9.13"
    }
  },
  "nbformat": 4,
  "nbformat_minor": 0
}
